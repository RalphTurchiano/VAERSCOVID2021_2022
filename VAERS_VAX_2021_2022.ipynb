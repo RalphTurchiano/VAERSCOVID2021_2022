{
 "cells": [
  {
   "cell_type": "code",
   "execution_count": null,
   "id": "2f8dce68-ba83-4a0e-b94b-f1fa561da65b",
   "metadata": {},
   "outputs": [],
   "source": []
  },
  {
   "cell_type": "code",
   "execution_count": 1,
   "id": "f47de7fa-b310-4409-ac24-67bda3dee8db",
   "metadata": {},
   "outputs": [],
   "source": [
    "import pandas as pd\n",
    "import csv\n",
    "import numpy as np\n",
    "import seaborn as sns\n",
    "import matplotlib.pyplot as plt"
   ]
  },
  {
   "cell_type": "code",
   "execution_count": 2,
   "id": "93d277e3-97ec-4a15-9063-8cbbf18a861b",
   "metadata": {},
   "outputs": [],
   "source": [
    "Vac_Dist = pd.read_csv(\"COVID-19_Vaccination_Trends.csv\", encoding='latin1')"
   ]
  },
  {
   "cell_type": "code",
   "execution_count": 3,
   "id": "f8aaee76-3207-4228-93e9-99c99479012f",
   "metadata": {},
   "outputs": [
    {
     "data": {
      "text/plain": [
       "Index(['Date', 'date_type', 'MMWR_week', 'Location', 'Administered_Daily',\n",
       "       'Administered_Cumulative', 'Administered_7_Day_Rolling_Average',\n",
       "       'Admin_Dose_1_Daily', 'Admin_Dose_1_Cumulative',\n",
       "       'Admin_Dose_1_Day_Rolling_Average', 'Administered_Dose1_Pop_Pct',\n",
       "       'Administered_daily_change_report',\n",
       "       'Administered_daily_change_report_7dayroll', 'Series_Complete_Daily',\n",
       "       'Series_Complete_Cumulative', 'Series_Complete_Day_Rolling_Average',\n",
       "       'Series_Complete_Pop_Pct', 'Booster_Daily', 'Booster_Cumulative',\n",
       "       'Booster_7_Day_Rolling_Average', 'Additional_Doses_Vax_Pct',\n",
       "       'Second_Booster_50Plus_Daily', 'Second_Booster_50Plus_Cumulative',\n",
       "       'Second_Booster_50Plus_7_Day_Rolling_Average',\n",
       "       'Second_Booster_50Plus_Vax_Pct', 'Bivalent_Booster_Daily',\n",
       "       'Bivalent_Booster_Cumulative', 'Bivalent_Booster_7_Day_Rolling_Average',\n",
       "       'Bivalent_Booster_Pop_Pct'],\n",
       "      dtype='object')"
      ]
     },
     "execution_count": 3,
     "metadata": {},
     "output_type": "execute_result"
    }
   ],
   "source": [
    "Vac_Dist.columns"
   ]
  },
  {
   "cell_type": "code",
   "execution_count": 4,
   "id": "9d1bb2ce-eca4-42a1-9e58-a563376f20ac",
   "metadata": {},
   "outputs": [],
   "source": [
    "VaxUS = Vac_Dist[Vac_Dist['Location'] == 'US']"
   ]
  },
  {
   "cell_type": "code",
   "execution_count": 5,
   "id": "e80b94cf-3002-478d-8a9d-73720f01bc2d",
   "metadata": {},
   "outputs": [
    {
     "data": {
      "text/html": [
       "<div>\n",
       "<style scoped>\n",
       "    .dataframe tbody tr th:only-of-type {\n",
       "        vertical-align: middle;\n",
       "    }\n",
       "\n",
       "    .dataframe tbody tr th {\n",
       "        vertical-align: top;\n",
       "    }\n",
       "\n",
       "    .dataframe thead th {\n",
       "        text-align: right;\n",
       "    }\n",
       "</style>\n",
       "<table border=\"1\" class=\"dataframe\">\n",
       "  <thead>\n",
       "    <tr style=\"text-align: right;\">\n",
       "      <th></th>\n",
       "      <th>Date</th>\n",
       "      <th>date_type</th>\n",
       "      <th>MMWR_week</th>\n",
       "      <th>Location</th>\n",
       "      <th>Administered_Daily</th>\n",
       "      <th>Administered_Cumulative</th>\n",
       "      <th>Administered_7_Day_Rolling_Average</th>\n",
       "      <th>Admin_Dose_1_Daily</th>\n",
       "      <th>Admin_Dose_1_Cumulative</th>\n",
       "      <th>Admin_Dose_1_Day_Rolling_Average</th>\n",
       "      <th>...</th>\n",
       "      <th>Booster_7_Day_Rolling_Average</th>\n",
       "      <th>Additional_Doses_Vax_Pct</th>\n",
       "      <th>Second_Booster_50Plus_Daily</th>\n",
       "      <th>Second_Booster_50Plus_Cumulative</th>\n",
       "      <th>Second_Booster_50Plus_7_Day_Rolling_Average</th>\n",
       "      <th>Second_Booster_50Plus_Vax_Pct</th>\n",
       "      <th>Bivalent_Booster_Daily</th>\n",
       "      <th>Bivalent_Booster_Cumulative</th>\n",
       "      <th>Bivalent_Booster_7_Day_Rolling_Average</th>\n",
       "      <th>Bivalent_Booster_Pop_Pct</th>\n",
       "    </tr>\n",
       "  </thead>\n",
       "  <tbody>\n",
       "    <tr>\n",
       "      <th>1720</th>\n",
       "      <td>12/31/2022</td>\n",
       "      <td>Admin</td>\n",
       "      <td>52</td>\n",
       "      <td>US</td>\n",
       "      <td>62134</td>\n",
       "      <td>665633098</td>\n",
       "      <td>170435.0</td>\n",
       "      <td>9651</td>\n",
       "      <td>268451387</td>\n",
       "      <td>24494.0</td>\n",
       "      <td>...</td>\n",
       "      <td>26486.0</td>\n",
       "      <td>50.8</td>\n",
       "      <td>13859</td>\n",
       "      <td>34852698</td>\n",
       "      <td>36902.0</td>\n",
       "      <td>50.9</td>\n",
       "      <td>58335</td>\n",
       "      <td>48669790</td>\n",
       "      <td>153676.0</td>\n",
       "      <td>14.7</td>\n",
       "    </tr>\n",
       "  </tbody>\n",
       "</table>\n",
       "<p>1 rows × 29 columns</p>\n",
       "</div>"
      ],
      "text/plain": [
       "            Date date_type  MMWR_week Location  Administered_Daily  \\\n",
       "1720  12/31/2022     Admin         52       US               62134   \n",
       "\n",
       "      Administered_Cumulative  Administered_7_Day_Rolling_Average  \\\n",
       "1720                665633098                            170435.0   \n",
       "\n",
       "      Admin_Dose_1_Daily  Admin_Dose_1_Cumulative  \\\n",
       "1720                9651                268451387   \n",
       "\n",
       "      Admin_Dose_1_Day_Rolling_Average  ...  Booster_7_Day_Rolling_Average  \\\n",
       "1720                           24494.0  ...                        26486.0   \n",
       "\n",
       "      Additional_Doses_Vax_Pct  Second_Booster_50Plus_Daily  \\\n",
       "1720                      50.8                        13859   \n",
       "\n",
       "      Second_Booster_50Plus_Cumulative  \\\n",
       "1720                          34852698   \n",
       "\n",
       "      Second_Booster_50Plus_7_Day_Rolling_Average  \\\n",
       "1720                                      36902.0   \n",
       "\n",
       "      Second_Booster_50Plus_Vax_Pct  Bivalent_Booster_Daily  \\\n",
       "1720                           50.9                   58335   \n",
       "\n",
       "      Bivalent_Booster_Cumulative  Bivalent_Booster_7_Day_Rolling_Average  \\\n",
       "1720                     48669790                                153676.0   \n",
       "\n",
       "      Bivalent_Booster_Pop_Pct  \n",
       "1720                      14.7  \n",
       "\n",
       "[1 rows x 29 columns]"
      ]
     },
     "execution_count": 5,
     "metadata": {},
     "output_type": "execute_result"
    }
   ],
   "source": [
    "Vac_Dist[Vac_Dist['Date'].isin(['12/31/2022']) & Vac_Dist['Location'].isin(['US'])]"
   ]
  },
  {
   "cell_type": "code",
   "execution_count": 6,
   "id": "1e20b51e-b79a-4aaa-9824-d69f79d8961c",
   "metadata": {},
   "outputs": [
    {
     "name": "stdout",
     "output_type": "stream",
     "text": [
      "<class 'pandas.core.frame.DataFrame'>\n",
      "Int64Index: 1356 entries, 36 to 81338\n",
      "Data columns (total 5 columns):\n",
      " #   Column                              Non-Null Count  Dtype  \n",
      "---  ------                              --------------  -----  \n",
      " 0   Date                                1356 non-null   object \n",
      " 1   date_type                           1356 non-null   object \n",
      " 2   Administered_Daily                  1356 non-null   int64  \n",
      " 3   Administered_Cumulative             1356 non-null   int64  \n",
      " 4   Administered_7_Day_Rolling_Average  1324 non-null   float64\n",
      "dtypes: float64(1), int64(2), object(2)\n",
      "memory usage: 63.6+ KB\n"
     ]
    }
   ],
   "source": [
    "Vax_Hist_US = pd.DataFrame()\n",
    "Vax_Hist_US[['Date','date_type','Administered_Daily','Administered_Cumulative','Administered_7_Day_Rolling_Average']] = VaxUS[['Date','date_type','Administered_Daily','Administered_Cumulative','Administered_7_Day_Rolling_Average']]\n",
    "Vax_Hist_US.info()\n",
    "Vax_Hist_US['Date'] = pd.to_datetime(Vax_Hist_US['Date'])"
   ]
  },
  {
   "cell_type": "code",
   "execution_count": 7,
   "id": "50152f7e-afd2-4164-81ae-ba00521b92cf",
   "metadata": {},
   "outputs": [
    {
     "data": {
      "text/plain": [
       "Admin     773\n",
       "Report    583\n",
       "Name: date_type, dtype: int64"
      ]
     },
     "execution_count": 7,
     "metadata": {},
     "output_type": "execute_result"
    }
   ],
   "source": [
    "Vax_Hist_US['date_type'].value_counts()"
   ]
  },
  {
   "cell_type": "code",
   "execution_count": 8,
   "id": "6215ba7f-4c42-40c6-a751-b45f4f091832",
   "metadata": {},
   "outputs": [],
   "source": [
    "Vax_Hist_US_Y= Vax_Hist_US[Vax_Hist_US['date_type'].isin(['Admin'])]"
   ]
  },
  {
   "cell_type": "code",
   "execution_count": 9,
   "id": "106d75db-09ec-4a94-bc34-ac9461f5f891",
   "metadata": {},
   "outputs": [],
   "source": [
    "Vax_Hist_US_Z = Vax_Hist_US_Y.copy()"
   ]
  },
  {
   "cell_type": "code",
   "execution_count": 10,
   "id": "90de74b4-59de-46c2-a489-d041ccc618aa",
   "metadata": {},
   "outputs": [],
   "source": [
    "Vax_Hist_US_Z['Administered_7_Day_Rolling_Average'] = Vax_Hist_US_Z['Administered_7_Day_Rolling_Average'].astype(int).copy()"
   ]
  },
  {
   "cell_type": "code",
   "execution_count": 11,
   "id": "7a46d5b0-55b5-4283-863b-e94d54c8f175",
   "metadata": {},
   "outputs": [],
   "source": [
    "Vax_Hist_US_Z.drop('date_type',axis=1, inplace=True)"
   ]
  },
  {
   "cell_type": "code",
   "execution_count": 12,
   "id": "dfe92213-594f-41fb-9843-4f3d0067764c",
   "metadata": {},
   "outputs": [],
   "source": [
    "Vax_Hist_US= Vax_Hist_US_Z.copy()"
   ]
  },
  {
   "cell_type": "code",
   "execution_count": 13,
   "id": "7e5a6470-2f9e-4f73-b79d-7514c9030d49",
   "metadata": {},
   "outputs": [],
   "source": [
    "Vax_Hist_US.rename(columns= {'Date':'VAX_DATE'}, inplace=True)"
   ]
  },
  {
   "cell_type": "code",
   "execution_count": 14,
   "id": "09f2f907-7070-4ed9-a3ac-d8d56909f4ab",
   "metadata": {},
   "outputs": [],
   "source": [
    "Vax_Hist_US  = Vax_Hist_US[(Vax_Hist_US['VAX_DATE'] > '2020-12-31') & (Vax_Hist_US['VAX_DATE'] <= '2022-12-30')]"
   ]
  },
  {
   "cell_type": "code",
   "execution_count": 15,
   "id": "520eb495-c767-4c35-a539-fca997c49eaf",
   "metadata": {},
   "outputs": [],
   "source": [
    "Vax_Hist_US.to_csv('Vax_Hist_US.csv')"
   ]
  },
  {
   "cell_type": "code",
   "execution_count": 16,
   "id": "4661d1ed-2dc6-443f-85dc-67f72fc4e791",
   "metadata": {},
   "outputs": [
    {
     "data": {
      "text/html": [
       "<div>\n",
       "<style scoped>\n",
       "    .dataframe tbody tr th:only-of-type {\n",
       "        vertical-align: middle;\n",
       "    }\n",
       "\n",
       "    .dataframe tbody tr th {\n",
       "        vertical-align: top;\n",
       "    }\n",
       "\n",
       "    .dataframe thead th {\n",
       "        text-align: right;\n",
       "    }\n",
       "</style>\n",
       "<table border=\"1\" class=\"dataframe\">\n",
       "  <thead>\n",
       "    <tr style=\"text-align: right;\">\n",
       "      <th></th>\n",
       "      <th>VAX_DATE</th>\n",
       "      <th>Administered_Daily</th>\n",
       "      <th>Administered_Cumulative</th>\n",
       "      <th>Administered_7_Day_Rolling_Average</th>\n",
       "    </tr>\n",
       "  </thead>\n",
       "  <tbody>\n",
       "    <tr>\n",
       "      <th>1750</th>\n",
       "      <td>2022-12-30</td>\n",
       "      <td>238624</td>\n",
       "      <td>665570964</td>\n",
       "      <td>167073</td>\n",
       "    </tr>\n",
       "    <tr>\n",
       "      <th>1802</th>\n",
       "      <td>2022-12-29</td>\n",
       "      <td>259886</td>\n",
       "      <td>665332340</td>\n",
       "      <td>154653</td>\n",
       "    </tr>\n",
       "    <tr>\n",
       "      <th>1903</th>\n",
       "      <td>2022-12-28</td>\n",
       "      <td>257657</td>\n",
       "      <td>665072454</td>\n",
       "      <td>149758</td>\n",
       "    </tr>\n",
       "    <tr>\n",
       "      <th>2008</th>\n",
       "      <td>2022-12-27</td>\n",
       "      <td>263316</td>\n",
       "      <td>664814797</td>\n",
       "      <td>153697</td>\n",
       "    </tr>\n",
       "    <tr>\n",
       "      <th>2040</th>\n",
       "      <td>2022-12-26</td>\n",
       "      <td>109048</td>\n",
       "      <td>664551481</td>\n",
       "      <td>160791</td>\n",
       "    </tr>\n",
       "    <tr>\n",
       "      <th>...</th>\n",
       "      <td>...</td>\n",
       "      <td>...</td>\n",
       "      <td>...</td>\n",
       "      <td>...</td>\n",
       "    </tr>\n",
       "    <tr>\n",
       "      <th>78599</th>\n",
       "      <td>2021-01-05</td>\n",
       "      <td>839381</td>\n",
       "      <td>7750452</td>\n",
       "      <td>474104</td>\n",
       "    </tr>\n",
       "    <tr>\n",
       "      <th>78654</th>\n",
       "      <td>2021-01-04</td>\n",
       "      <td>664563</td>\n",
       "      <td>6911071</td>\n",
       "      <td>458244</td>\n",
       "    </tr>\n",
       "    <tr>\n",
       "      <th>78779</th>\n",
       "      <td>2021-01-03</td>\n",
       "      <td>141161</td>\n",
       "      <td>6246508</td>\n",
       "      <td>448544</td>\n",
       "    </tr>\n",
       "    <tr>\n",
       "      <th>78881</th>\n",
       "      <td>2021-01-02</td>\n",
       "      <td>268446</td>\n",
       "      <td>6105347</td>\n",
       "      <td>442198</td>\n",
       "    </tr>\n",
       "    <tr>\n",
       "      <th>78999</th>\n",
       "      <td>2021-01-01</td>\n",
       "      <td>131486</td>\n",
       "      <td>5836901</td>\n",
       "      <td>424324</td>\n",
       "    </tr>\n",
       "  </tbody>\n",
       "</table>\n",
       "<p>729 rows × 4 columns</p>\n",
       "</div>"
      ],
      "text/plain": [
       "        VAX_DATE  Administered_Daily  Administered_Cumulative  \\\n",
       "1750  2022-12-30              238624                665570964   \n",
       "1802  2022-12-29              259886                665332340   \n",
       "1903  2022-12-28              257657                665072454   \n",
       "2008  2022-12-27              263316                664814797   \n",
       "2040  2022-12-26              109048                664551481   \n",
       "...          ...                 ...                      ...   \n",
       "78599 2021-01-05              839381                  7750452   \n",
       "78654 2021-01-04              664563                  6911071   \n",
       "78779 2021-01-03              141161                  6246508   \n",
       "78881 2021-01-02              268446                  6105347   \n",
       "78999 2021-01-01              131486                  5836901   \n",
       "\n",
       "       Administered_7_Day_Rolling_Average  \n",
       "1750                               167073  \n",
       "1802                               154653  \n",
       "1903                               149758  \n",
       "2008                               153697  \n",
       "2040                               160791  \n",
       "...                                   ...  \n",
       "78599                              474104  \n",
       "78654                              458244  \n",
       "78779                              448544  \n",
       "78881                              442198  \n",
       "78999                              424324  \n",
       "\n",
       "[729 rows x 4 columns]"
      ]
     },
     "execution_count": 16,
     "metadata": {},
     "output_type": "execute_result"
    }
   ],
   "source": [
    "Vax_Hist_US "
   ]
  },
  {
   "cell_type": "code",
   "execution_count": 17,
   "id": "14c94412-ca4c-4734-a71c-d2243f377fd3",
   "metadata": {},
   "outputs": [],
   "source": [
    "VAXUS = pd.read_csv(\"Vax_Hist_US.csv\", encoding='latin1')"
   ]
  },
  {
   "cell_type": "code",
   "execution_count": 18,
   "id": "fc546a47-b231-4967-a212-418685ef164e",
   "metadata": {},
   "outputs": [],
   "source": [
    "\n",
    "VAX2021 = pd.read_csv(\"2021VAERSVAX.csv\", encoding='latin1')\n",
    "VAX2022 = pd.read_csv(\"2022VAERSVAX.csv\", encoding='latin1')\n",
    "SYM2021 = pd.read_csv(\"2021VAERSSYMPTOMS.csv\", encoding='latin1')\n",
    "SYM2022 = pd.read_csv(\"2022VAERSSYMPTOMS.csv\", encoding='latin1')"
   ]
  },
  {
   "cell_type": "code",
   "execution_count": 19,
   "id": "02d873d9-1cff-4e29-9ef9-cc77ad851d57",
   "metadata": {},
   "outputs": [],
   "source": [
    "import csv\n",
    "\n",
    "with open(\"2022VAERSData.csv\", mode=\"r\") as old_file:\n",
    "    reader_obj = csv.reader(old_file)\n",
    "\n",
    "    with open(\"2022VAERSDataX.csv\", mode=\"w\") as new_file:\n",
    "        writer_obj = csv.writer(new_file, delimiter=\",\")\n",
    "\n",
    "        for data in reader_obj:\n",
    "            writer_obj.writerow(data)"
   ]
  },
  {
   "cell_type": "code",
   "execution_count": 20,
   "id": "e2577a58-3772-4437-80fc-89aa126aeaeb",
   "metadata": {},
   "outputs": [],
   "source": [
    "with open(\"2021VAERSDATA.csv\", mode=\"r\") as old_file:\n",
    "    reader_obj = csv.reader(old_file)\n",
    "\n",
    "    with open(\"2021VAERSDATAX.csv\", mode=\"w\") as new_file:\n",
    "        writer_obj = csv.writer(new_file, delimiter=\",\")\n",
    "\n",
    "        for data in reader_obj:\n",
    "            writer_obj.writerow(data)"
   ]
  },
  {
   "cell_type": "code",
   "execution_count": 21,
   "id": "34bc9e15-7e04-4bf3-8137-34f69e83290b",
   "metadata": {},
   "outputs": [],
   "source": [
    "VDATA2021 = pd.read_csv(\"2021VAERSDATAX.csv\", encoding ='latin1',low_memory = False)\n",
    "VDATA2022 = pd.read_csv(\"2022VAERSDATAX.csv\", encoding ='latin1',low_memory = False)"
   ]
  },
  {
   "cell_type": "code",
   "execution_count": 22,
   "id": "32cf63cc-41bb-4df4-8e1d-66c1a55a5f19",
   "metadata": {},
   "outputs": [],
   "source": [
    "V2021 = SYM2021.merge(VAX2021,on='VAERS_ID', how='inner')\n",
    "DUP2021 = V2021[V2021.duplicated(subset='VAERS_ID', keep=False)]\n",
    "V2022 = SYM2022.merge(VAX2022,on='VAERS_ID', how='inner')\n",
    "DUP2022 = V2022[V2022.duplicated(subset='VAERS_ID', keep=False)]"
   ]
  },
  {
   "cell_type": "code",
   "execution_count": 23,
   "id": "93dc475d-c941-472e-b985-6b197d99c5bf",
   "metadata": {},
   "outputs": [],
   "source": [
    "V2021_B = V2021.merge(VDATA2021,on='VAERS_ID', how='inner')\n",
    "V2022_B = V2022.merge(VDATA2022,on='VAERS_ID', how='inner')"
   ]
  },
  {
   "cell_type": "code",
   "execution_count": 24,
   "id": "4e4e3576-75cc-4cc3-a04b-6fb8902d3b41",
   "metadata": {},
   "outputs": [
    {
     "name": "stdout",
     "output_type": "stream",
     "text": [
      "{'VAERS_ID': 0, 'SYMPTOM1': 1, 'SYMPTOMVERSION1': 2, 'SYMPTOM2': 3, 'SYMPTOMVERSION2': 4, 'SYMPTOM3': 5, 'SYMPTOMVERSION3': 6, 'SYMPTOM4': 7, 'SYMPTOMVERSION4': 8, 'SYMPTOM5': 9, 'SYMPTOMVERSION5': 10, 'VAX_TYPE': 11, 'VAX_MANU': 12, 'VAX_LOT': 13, 'VAX_DOSE_SERIES': 14, 'VAX_ROUTE': 15, 'VAX_SITE': 16, 'VAX_NAME': 17, 'RECVDATE': 18, 'STATE': 19, 'AGE_YRS': 20, 'CAGE_YR': 21, 'CAGE_MO': 22, 'SEX': 23, 'RPT_DATE': 24, 'SYMPTOM_TEXT': 25, 'DIED': 26, 'DATEDIED': 27, 'L_THREAT': 28, 'ER_VISIT': 29, 'HOSPITAL': 30, 'HOSPDAYS': 31, 'X_STAY': 32, 'DISABLE': 33, 'RECOVD': 34, 'VAX_DATE': 35, 'ONSET_DATE': 36, 'NUMDAYS': 37, 'LAB_DATA': 38, 'V_ADMINBY': 39, 'V_FUNDBY': 40, 'OTHER_MEDS': 41, 'CUR_ILL': 42, 'HISTORY': 43, 'PRIOR_VAX': 44, 'SPLTTYPE': 45, 'FORM_VERS': 46, 'TODAYS_DATE': 47, 'BIRTH_DEFECT': 48, 'OFC_VISIT': 49, 'ER_ED_VISIT': 50, 'ALLERGIES': 51}\n"
     ]
    }
   ],
   "source": [
    "ind ={}\n",
    "for x in V2022_B.columns:\n",
    "    ind[x] = V2022_B.columns.get_loc(x)\n",
    "print(ind)"
   ]
  },
  {
   "cell_type": "code",
   "execution_count": 25,
   "id": "e1e0e3ae-d9af-4e44-8bc6-ab8619471bd0",
   "metadata": {},
   "outputs": [],
   "source": [
    "pd.set_option('display.max_columns', None)"
   ]
  },
  {
   "cell_type": "code",
   "execution_count": 26,
   "id": "6bcb1ece-db20-4a41-ba12-2810bd43a4d7",
   "metadata": {},
   "outputs": [],
   "source": [
    "V2021_C = pd.DataFrame()\n",
    "V2022_C = pd.DataFrame()"
   ]
  },
  {
   "cell_type": "code",
   "execution_count": 27,
   "id": "613d51d5-8e09-4f3b-ab10-39beffee5745",
   "metadata": {},
   "outputs": [],
   "source": [
    "V2021_C = V2021_B.iloc[:,[0,1,3,5,7,9,11,12.13,14,18,20,23,25,26,27,33,34,35,36,37,48,]]\n",
    "V2022_C = V2022_B.iloc[:,[0,1,3,5,7,9,11,12,13,14,18,20,23,25,26,27,33,34,35,36,37,48,]]"
   ]
  },
  {
   "cell_type": "code",
   "execution_count": 28,
   "id": "399fd13c-01d9-40ac-bce4-8fa6e9d97bfe",
   "metadata": {},
   "outputs": [],
   "source": [
    "a = V2021_C\n",
    "b = V2022_C\n",
    "VMERGED_A = pd.concat([a,b] , join='inner')"
   ]
  },
  {
   "cell_type": "code",
   "execution_count": 29,
   "id": "6e69e3e8-a707-4a94-bd61-ecde0781d1fd",
   "metadata": {},
   "outputs": [],
   "source": [
    "VMERGED_B = VMERGED_A[VMERGED_A['VAX_TYPE']== 'COVID19']"
   ]
  },
  {
   "cell_type": "code",
   "execution_count": 30,
   "id": "44a59dfa-5a5f-4874-95f4-e32de426d93d",
   "metadata": {},
   "outputs": [],
   "source": [
    "med_age = VMERGED_B['AGE_YRS'].median()\n",
    "med_num = VMERGED_B['NUMDAYS'].median()"
   ]
  },
  {
   "cell_type": "code",
   "execution_count": 31,
   "id": "7e7086ed-f77b-423e-b566-99fa244449e9",
   "metadata": {},
   "outputs": [
    {
     "data": {
      "text/plain": [
       "(52.0, 1.0)"
      ]
     },
     "execution_count": 31,
     "metadata": {},
     "output_type": "execute_result"
    }
   ],
   "source": [
    "med_age, med_num"
   ]
  },
  {
   "cell_type": "code",
   "execution_count": 32,
   "id": "a6488e1b-b006-48e6-91f8-b3e51b53411d",
   "metadata": {},
   "outputs": [],
   "source": [
    "VMERGED_C =VMERGED_B.copy()"
   ]
  },
  {
   "cell_type": "code",
   "execution_count": 33,
   "id": "82659ac9-64f8-4f8a-b608-d12de5ae538e",
   "metadata": {},
   "outputs": [],
   "source": [
    "VMERGED_C['AGE_YRS']= VMERGED_C['AGE_YRS'].replace(np.nan,med_age).astype(int)\n",
    "VMERGED_C['NUMDAYS']= VMERGED_C['NUMDAYS'].replace(np.nan,med_num).astype(int)"
   ]
  },
  {
   "cell_type": "code",
   "execution_count": 34,
   "id": "732a3ec4-1a3f-4e58-a6c3-94883220bb68",
   "metadata": {},
   "outputs": [],
   "source": [
    "VMERGED_C['ONSET_DATE'] = pd.to_datetime(VMERGED_C['ONSET_DATE'])\n",
    "VMERGED_C['VAX_DATE'] = pd.to_datetime(VMERGED_C['VAX_DATE'])"
   ]
  },
  {
   "cell_type": "code",
   "execution_count": 35,
   "id": "a71c5d46-3c9f-46ed-89b2-5c7d2594bc32",
   "metadata": {},
   "outputs": [],
   "source": [
    "VDELTA = VMERGED_C['ONSET_DATE'] - pd.to_timedelta(VMERGED_C['NUMDAYS'],'D', errors='coerce')"
   ]
  },
  {
   "cell_type": "code",
   "execution_count": 36,
   "id": "937e8bd6-d119-45dd-83fc-b8b187138acc",
   "metadata": {},
   "outputs": [],
   "source": [
    "VMERGED_C['VAX_DATE'] = VMERGED_C['VAX_DATE'].replace(np.nan,VDELTA[0])"
   ]
  },
  {
   "cell_type": "code",
   "execution_count": 37,
   "id": "f1c5a8e8-a5ed-47a1-91e0-28c538fa2cc3",
   "metadata": {},
   "outputs": [],
   "source": [
    "VDELTAP = VMERGED_C['VAX_DATE'] + pd.to_timedelta(VMERGED_C['NUMDAYS'],'D', errors='coerce')"
   ]
  },
  {
   "cell_type": "code",
   "execution_count": 38,
   "id": "163e073b-b090-4796-901d-a3183dfa3cfb",
   "metadata": {},
   "outputs": [],
   "source": [
    "VMERGED_C['ONSET_DATE'] = VMERGED_C['ONSET_DATE'].replace(np.nan,VDELTAP[0])"
   ]
  },
  {
   "cell_type": "code",
   "execution_count": 39,
   "id": "07b4b883-b5a5-40ee-9e4d-19ebe943e673",
   "metadata": {},
   "outputs": [],
   "source": [
    "VMERGED_D = VMERGED_C.replace(np.nan,'-').copy()"
   ]
  },
  {
   "cell_type": "code",
   "execution_count": 40,
   "id": "f9bf66fb-b8bb-46f8-8a79-4f27b58cc3cd",
   "metadata": {},
   "outputs": [],
   "source": [
    "VMERGED_COV = VMERGED_D[VMERGED_D['VAX_TYPE']== 'COVID19']"
   ]
  },
  {
   "cell_type": "code",
   "execution_count": 41,
   "id": "5f34f9f3-6571-470c-9613-8412823d3374",
   "metadata": {},
   "outputs": [],
   "source": [
    "a= VAXUS\n",
    "b= VMERGED_COV"
   ]
  },
  {
   "cell_type": "code",
   "execution_count": 42,
   "id": "72b71056-774e-4e89-8b9e-a3c6ae0bd81f",
   "metadata": {},
   "outputs": [],
   "source": [
    "a['VAX_DATE'] = pd.to_datetime(a['VAX_DATE'])"
   ]
  },
  {
   "cell_type": "code",
   "execution_count": 43,
   "id": "39afe8a3-682c-42f0-afe2-b49f7cd99b67",
   "metadata": {},
   "outputs": [],
   "source": [
    "VWTHDUP = pd.merge(a, b, on='VAX_DATE', how='outer').fillna(method='ffill')"
   ]
  },
  {
   "cell_type": "code",
   "execution_count": 44,
   "id": "02a969fd-645a-4d41-9b9d-f269eea4c380",
   "metadata": {},
   "outputs": [],
   "source": [
    "VWTHDUP['VAX_DOSE_SERIES'] = VWTHDUP['VAX_DOSE_SERIES'].replace('','UNK')\n",
    "VWTHDUP['SEX'] = VWTHDUP['SEX'].replace('U','UNK')\n",
    "VWTHDUP['DIED'] = VWTHDUP['DIED'].replace('-','N')\n",
    "VWTHDUP['RECOVD'] = VWTHDUP['RECOVD'].replace({'-':'UNK', 'U':'UNK'})\n",
    "VWTHDUP['BIRTH_DEFECT'] = VWTHDUP['BIRTH_DEFECT'].replace('-','UNK')\n",
    "VWTHDUP['DISABLE'] = VWTHDUP['DISABLE'].replace('-','UNK')"
   ]
  },
  {
   "cell_type": "code",
   "execution_count": 45,
   "id": "5b4e3238-d0c0-48e9-a961-4d09f104ae87",
   "metadata": {},
   "outputs": [],
   "source": [
    "VWTHDUP['VAX_DOSE_SERIES'] = VWTHDUP['VAX_DOSE_SERIES'].astype('category')"
   ]
  },
  {
   "cell_type": "code",
   "execution_count": 46,
   "id": "d400858b-67ff-4c97-8961-7c2ce912b343",
   "metadata": {},
   "outputs": [
    {
     "data": {
      "text/plain": [
       "1      557324\n",
       "2      381624\n",
       "UNK    184199\n",
       "3      125281\n",
       "4       31129\n",
       "-        4779\n",
       "5        2938\n",
       "7+        402\n",
       "6         231\n",
       "Name: VAX_DOSE_SERIES, dtype: int64"
      ]
     },
     "execution_count": 46,
     "metadata": {},
     "output_type": "execute_result"
    }
   ],
   "source": [
    "VWTHDUP['VAX_DOSE_SERIES'].value_counts()\n"
   ]
  },
  {
   "cell_type": "code",
   "execution_count": 47,
   "id": "2ff399e1-9fb7-4540-b96e-3073d5bcb1c9",
   "metadata": {},
   "outputs": [],
   "source": [
    "VWTHDUP = VWTHDUP.convert_dtypes()"
   ]
  },
  {
   "cell_type": "code",
   "execution_count": 48,
   "id": "a95eaa5a-5ebf-4519-9890-44fd1828de02",
   "metadata": {},
   "outputs": [],
   "source": [
    "VWTHDUP.iloc[:,[11,12,16,18,20,21,24]] = VWTHDUP.iloc[:,[11,12,16,18,20,21,24]].astype('category')"
   ]
  },
  {
   "cell_type": "code",
   "execution_count": 49,
   "id": "7811ace5-a957-404e-8b46-fcc30359a7ac",
   "metadata": {},
   "outputs": [],
   "source": [
    "VWWTHDUP = VWTHDUP.drop(VWTHDUP.columns[[0,14,19]],axis=1)"
   ]
  },
  {
   "cell_type": "code",
   "execution_count": 50,
   "id": "3b4fe804-5537-4e0e-957f-dab8487b9c1d",
   "metadata": {},
   "outputs": [],
   "source": [
    "start_date = '11/11/2019'\n",
    "end_date ='12/30/2022'"
   ]
  },
  {
   "cell_type": "code",
   "execution_count": 51,
   "id": "58a96832-f86d-4912-a490-2f2d8335af50",
   "metadata": {},
   "outputs": [],
   "source": [
    "mask = (VWWTHDUP['VAX_DATE'] > start_date) & (VWWTHDUP['VAX_DATE'] <= end_date)"
   ]
  },
  {
   "cell_type": "code",
   "execution_count": 52,
   "id": "150fe55e-8d39-4659-bf94-d684a386947e",
   "metadata": {},
   "outputs": [],
   "source": [
    "VWWTHDUP = VWWTHDUP.loc[mask]"
   ]
  },
  {
   "cell_type": "code",
   "execution_count": 53,
   "id": "c781d78d-c603-4a51-94b2-98094f5fc4a8",
   "metadata": {},
   "outputs": [],
   "source": [
    "VWWTHDUP = VWWTHDUP.sort_values('VAX_DATE',ignore_index=True)"
   ]
  },
  {
   "cell_type": "code",
   "execution_count": 54,
   "id": "7edd82a0-06a4-46ed-a2a4-2b7dc672bf68",
   "metadata": {},
   "outputs": [],
   "source": [
    "VWWTHDUP.to_csv('COVIDVAERS_WITH_DUPLICATES2021_2022.csv',index=False)"
   ]
  },
  {
   "cell_type": "code",
   "execution_count": 55,
   "id": "54384766-4d72-4db9-a485-ce24c1645cb8",
   "metadata": {},
   "outputs": [],
   "source": [
    "VXNODUP = VWWTHDUP.drop_duplicates(subset='VAERS_ID')"
   ]
  },
  {
   "cell_type": "code",
   "execution_count": 56,
   "id": "a7d58394-1341-4f4c-863b-4f03cfe6d3bd",
   "metadata": {},
   "outputs": [],
   "source": [
    "VXNODUP = VXNODUP.sort_values('VAX_DATE', ignore_index=True)"
   ]
  },
  {
   "cell_type": "code",
   "execution_count": 57,
   "id": "f5ab0b81-2a32-4d84-92f5-04bd69e63f30",
   "metadata": {},
   "outputs": [],
   "source": [
    "VXNODUP.to_csv('COVIDVAERS_NO_DUPLICATES2021_2022.csv',index=False)"
   ]
  },
  {
   "cell_type": "code",
   "execution_count": 64,
   "id": "9fad596f-0d36-44ea-b9c4-cec7eedc5d3f",
   "metadata": {},
   "outputs": [
    {
     "data": {
      "text/plain": [
       "1286323"
      ]
     },
     "execution_count": 64,
     "metadata": {},
     "output_type": "execute_result"
    }
   ],
   "source": [
    "# Validate with VWWTHDUP.isna.sum() , VWWTHDUP.info()"
   ]
  },
  {
   "cell_type": "code",
   "execution_count": 70,
   "id": "ce2894a9-67a6-48a6-ac3d-016c24d66c80",
   "metadata": {},
   "outputs": [
    {
     "name": "stdout",
     "output_type": "stream",
     "text": [
      "<class 'pandas.core.frame.DataFrame'>\n",
      "RangeIndex: 1286323 entries, 0 to 1286322\n",
      "Data columns (total 22 columns):\n",
      " #   Column                              Non-Null Count    Dtype \n",
      "---  ------                              --------------    ----- \n",
      " 0   VAX_DATE                            1286323 non-null  object\n",
      " 1   Administered_Daily                  1286323 non-null  object\n",
      " 2   Administered_Cumulative             1286323 non-null  object\n",
      " 3   Administered_7_Day_Rolling_Average  1286323 non-null  object\n",
      " 4   VAERS_ID                            1286323 non-null  object\n",
      " 5   SYMPTOM1                            1286323 non-null  object\n",
      " 6   SYMPTOM2                            1286323 non-null  object\n",
      " 7   SYMPTOM3                            1286323 non-null  object\n",
      " 8   SYMPTOM4                            1286323 non-null  object\n",
      " 9   SYMPTOM5                            1286323 non-null  object\n",
      " 10  VAX_TYPE                            1286323 non-null  object\n",
      " 11  VAX_MANU                            1286323 non-null  object\n",
      " 12  VAX_DOSE_SERIES                     1286323 non-null  object\n",
      " 13  AGE_YRS                             1286323 non-null  object\n",
      " 14  SEX                                 1286323 non-null  object\n",
      " 15  SYMPTOM_TEXT                        1286323 non-null  object\n",
      " 16  DIED                                1286323 non-null  object\n",
      " 17  DISABLE                             1286323 non-null  object\n",
      " 18  RECOVD                              1286323 non-null  object\n",
      " 19  ONSET_DATE                          1286323 non-null  object\n",
      " 20  NUMDAYS                             1286323 non-null  object\n",
      " 21  BIRTH_DEFECT                        1286323 non-null  object\n",
      "dtypes: object(22)\n",
      "memory usage: 215.9+ MB\n"
     ]
    }
   ],
   "source": [
    "VWWTHDUP.astype(object).info()"
   ]
  },
  {
   "cell_type": "code",
   "execution_count": 72,
   "id": "e8026434-34ab-4057-9fdd-783817de7964",
   "metadata": {},
   "outputs": [
    {
     "name": "stdout",
     "output_type": "stream",
     "text": [
      "<class 'pandas.core.frame.DataFrame'>\n",
      "RangeIndex: 1286323 entries, 0 to 1286322\n",
      "Data columns (total 22 columns):\n",
      " #   Column                              Non-Null Count    Dtype         \n",
      "---  ------                              --------------    -----         \n",
      " 0   VAX_DATE                            1286323 non-null  datetime64[ns]\n",
      " 1   Administered_Daily                  1286323 non-null  Int64         \n",
      " 2   Administered_Cumulative             1286323 non-null  Int64         \n",
      " 3   Administered_7_Day_Rolling_Average  1286323 non-null  Int64         \n",
      " 4   VAERS_ID                            1286323 non-null  Int64         \n",
      " 5   SYMPTOM1                            1286323 non-null  string        \n",
      " 6   SYMPTOM2                            1286323 non-null  string        \n",
      " 7   SYMPTOM3                            1286323 non-null  string        \n",
      " 8   SYMPTOM4                            1286323 non-null  string        \n",
      " 9   SYMPTOM5                            1286323 non-null  string        \n",
      " 10  VAX_TYPE                            1286323 non-null  category      \n",
      " 11  VAX_MANU                            1286323 non-null  category      \n",
      " 12  VAX_DOSE_SERIES                     1286323 non-null  category      \n",
      " 13  AGE_YRS                             1286323 non-null  Int64         \n",
      " 14  SEX                                 1286323 non-null  category      \n",
      " 15  SYMPTOM_TEXT                        1286323 non-null  string        \n",
      " 16  DIED                                1286323 non-null  category      \n",
      " 17  DISABLE                             1286323 non-null  category      \n",
      " 18  RECOVD                              1286323 non-null  category      \n",
      " 19  ONSET_DATE                          1286323 non-null  datetime64[ns]\n",
      " 20  NUMDAYS                             1286323 non-null  Int64         \n",
      " 21  BIRTH_DEFECT                        1286323 non-null  category      \n",
      "dtypes: Int64(6), category(8), datetime64[ns](2), string(6)\n",
      "memory usage: 154.6 MB\n"
     ]
    }
   ],
   "source": [
    "VWWTHDUP.convert_dtypes().info()"
   ]
  }
 ],
 "metadata": {
  "kernelspec": {
   "display_name": "Python 3 (ipykernel)",
   "language": "python",
   "name": "python3"
  },
  "language_info": {
   "codemirror_mode": {
    "name": "ipython",
    "version": 3
   },
   "file_extension": ".py",
   "mimetype": "text/x-python",
   "name": "python",
   "nbconvert_exporter": "python",
   "pygments_lexer": "ipython3",
   "version": "3.9.12"
  }
 },
 "nbformat": 4,
 "nbformat_minor": 5
}
